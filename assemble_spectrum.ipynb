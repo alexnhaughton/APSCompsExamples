{
 "cells": [
  {
   "cell_type": "code",
   "execution_count": 1,
   "id": "3c4b5a52",
   "metadata": {},
   "outputs": [],
   "source": [
    "%matplotlib qt"
   ]
  },
  {
   "cell_type": "code",
   "execution_count": 2,
   "id": "f1269f5d",
   "metadata": {},
   "outputs": [],
   "source": [
    "import matplotlib.pyplot as plt\n",
    "import numpy as np\n",
    "from astropy.io import fits\n",
    "import pandas as pd\n",
    "import os\n",
    "import spfuncs as spf\n",
    "from astropy.io import fits\n",
    "from astropy.table import Table\n",
    "from scipy.io import readsav\n",
    "from scipy.stats import chi2\n",
    "from scipy.interpolate import UnivariateSpline\n",
    "from IPython.display import clear_output\n",
    "from astropy.convolution import Gaussian1DKernel, convolve_fft\n",
    "from scipy.stats import binned_statistic"
   ]
  },
  {
   "cell_type": "code",
   "execution_count": 236,
   "id": "b88d88bb",
   "metadata": {},
   "outputs": [],
   "source": [
    "##### Global variables #####\n",
    "# global variable for instrument bits\n",
    "INST_BITS = {'G140L':1,\n",
    "             'G140M':2,\n",
    "             'G230L':4,\n",
    "             'G430L':8,\n",
    "             'X-RAY':16,\n",
    "             'proxy':32,\n",
    "             'lya':64,\n",
    "             'EUV':128,\n",
    "             'BT-Settl':256,\n",
    "             'APEC':512}"
   ]
  },
  {
   "cell_type": "code",
   "execution_count": 237,
   "id": "d3c99690",
   "metadata": {},
   "outputs": [],
   "source": [
    "##### FUNCTIONS #####\n",
    "# Search for a spectrum in the given grating directory. If found, updates given grating dict and returns true\n",
    "# Requires spectrum be named x1d_coadd.fits\n",
    "def look_for_data(star,grating_to_find,grating_dict):\n",
    "    # Search through the directories in the Star directory and try to find the given grating\n",
    "    \n",
    "    print('Searching for',grating_to_find)\n",
    "    try:\n",
    "        for root,dirs,files in os.walk('./%s'%(star)):\n",
    "            if(root == './%s\\\\%s'%(star,grating_to_find)):\n",
    "                print('Found directory: %s'%(root))\n",
    "                # Try to find the coadded spectrum in the grating directory\n",
    "                try:\n",
    "                    with fits.open('%s/x1d_coadd.fits'%(root)) as hdul:\n",
    "                        wave = hdul[1].data['WAVELENGTH']\n",
    "                        flux = hdul[1].data['FLUX']\n",
    "                        err = hdul[1].data['ERROR']\n",
    "                        inst = INST_BITS[grating_to_find]*np.ones(len(wave))\n",
    "                    print('Retrieved',grating_to_find)\n",
    "                    grating_dict[grating_to_find] = np.array([wave,flux,err,inst])\n",
    "                    return True\n",
    "                except:\n",
    "                    print('Error finding spectrum')\n",
    "    except:\n",
    "        print('Error finding star directory')\n",
    "    \n",
    "    print('Did not find directory')\n",
    "    return False\n",
    "\n",
    "def minimize_scale_factor(ref,spectrum,init_factor,search_range):\n",
    "    # Minimizes the scale factor [(F_obs - F_proxy)/E_obs]^2. Returns the best scale factor \n",
    "    #      and the minimum \"chi^2\" value\n",
    "    # INPUT:\n",
    "    # ref = reference spectrum. numpy array including wavelength, flux, error [wave,flux,err]\n",
    "    # spectrum = spectrum to be scaled. 1d numpy array containing ONLY flux.\n",
    "    # init_factor = initial scaling factor\n",
    "    # search_range = order of magnitude to search around init_factor. ie: search_range = 2 will search for \n",
    "    #                factors between init_factor*10^(-2)-init_factor*10^(+2)\n",
    "    # OUTPUT:\n",
    "    # alpha scaling value and minimum \"chi squared\" factor\n",
    "    \n",
    "    scale_factors = np.linspace(init_factor*10**(-search_range),init_factor*10**(search_range),num=5000)\n",
    "    #print('Scale factor lims',min(scale_factors),max(scale_factors)) # debugging\n",
    "    best_factor = 1\n",
    "    min_chi2 = np.inf\n",
    "    \n",
    "    for alpha in scale_factors:\n",
    "        scaled_flux = spectrum*alpha\n",
    "        chi2 = np.sum(((ref[1]-scaled_flux)/ref[2])**2)/(len(ref[0])-1)\n",
    "        \n",
    "        if(chi2 < min_chi2):\n",
    "            min_chi2 = chi2\n",
    "            best_factor = alpha\n",
    "            \n",
    "    return best_factor,min_chi2\n",
    "\n",
    "def scale_spectrum(ref,spectrum,init_factor=1,coarse_range=2,fine_range=1,end='high'):\n",
    "    # Takes a reference spectrum and a spectrum to be scaled. Calls minimize_scale_factor and returns the best \n",
    "    #        scale factor to match the spectrum to the reference.\n",
    "    # INPUT:\n",
    "    # ref, spectrum, init_factor = same as minimize_scale_factor()\n",
    "    # coarse_range = value of search_range to be passed to minimize_scale_factor() for the initial search.\n",
    "    #                This is intended to search a braod range to avoid local minima\n",
    "    # fine_range = value of search_range to be passed to minimize_scale_factor() for the 2nd search.\n",
    "    #               This is intended to find a more precise minimum around the result from the coarse search\n",
    "    # end = which end of the reference spectrum are you scaling to. Must be 'low' or 'high' for blue \n",
    "    #               and red end respectively\n",
    "    # OUTPUT:\n",
    "    # scaled spectrum in form [wavelength, flux*alpha, error*alpha]\n",
    "    # alpha scaling factor\n",
    "    # minimum \"chi squared\" factor\n",
    "    \n",
    "    # Get the region where the spectrum and reference overlap\n",
    "    if(end.lower()=='high'):\n",
    "        try:\n",
    "            ref_reg = ref[0] > spectrum[0][0]\n",
    "            spec_reg = spectrum[0] < ref[0][-1]\n",
    "            \n",
    "            ref = ref[:,ref_reg]\n",
    "            spectrum = spectrum[:,spec_reg]\n",
    "        except:\n",
    "            raise IndexError('For end=\\'high\\' the spectrum must overlap with the red end of the reference')\n",
    "    elif(end.lower()=='low'):\n",
    "        try:\n",
    "            ref_reg = ref[0] < spectrum[0][-1]\n",
    "            spec_reg = spectrum[0] > ref[0][0]\n",
    "            \n",
    "            ref = ref[:,ref_reg]\n",
    "            spectrum = spectrum[:,spec_reg]\n",
    "        except:\n",
    "            raise IndexError('For end=\\'low\\' the spectrum must overlap with the blue end of the reference')\n",
    "    else:\n",
    "        raise Exception('Keyword \\'end\\' must be \\'high\\' or \\'low\\'')\n",
    "        \n",
    "    print('Fitting region:\\t%0.1f-%0.1f'%(min(spectrum[0]),max(spectrum[0])))\n",
    "        \n",
    "    # Interpolate the spectrum with greater A/pix onto the wavelength grid of the other\n",
    "    ref_ang_per_pix = np.nanmean(np.diff(ref[0])/len(ref[0]))\n",
    "    spectrum_ang_per_pix = np.nanmean(np.diff(spectrum[0])/len(ref[0]))\n",
    "    \n",
    "    if((ref_ang_per_pix < spectrum_ang_per_pix) or (ref_ang_per_pix == spectrum_ang_per_pix)):\n",
    "        spectrum_interp = np.interp(x=ref[0],xp=spectrum[0],fp=spectrum[1])\n",
    "        \n",
    "        # Run the minimization routine with a broad, coarse search\n",
    "        scale_factor_coarse,_ = minimize_scale_factor(ref,spectrum_interp,init_factor,search_range=coarse_range)\n",
    "        # Run the minimization routine with a fine search around the initial factor\n",
    "        scale_factor,chi2 = minimize_scale_factor(ref,spectrum_interp,scale_factor_coarse,search_range=fine_range)\n",
    "        \n",
    "    elif(spectrum_ang_per_pix < ref_ang_per_pix):\n",
    "        ref_interp = np.interp(x=spectrum[0],xp=ref[0],fp=ref[1])\n",
    "        ref_err_interp = np.interp(x=spectrum[0],xp=ref[0],fp=ref[2])\n",
    "        \n",
    "        ref_to_pass = np.array([spectrum[0],ref_interp,ref_err_interp])\n",
    "        \n",
    "        # Run the minimization routine with a broad, coarse search\n",
    "        scale_factor_coarse,_ = minimize_scale_factor(ref_to_pass,spectrum[1],init_factor,search_range=coarse_range)\n",
    "        # Run the minimization routine with a fine search around the initial factor\n",
    "        scale_factor,chi2 = minimize_scale_factor(ref_to_pass,spectrum[1],scale_factor_coarse,search_range=fine_range)\n",
    "        \n",
    "    print('--- RESULTS ---')\n",
    "    print('Best scale factor:\\t%0.4e'%(scale_factor))\n",
    "    print('Minimum chi square:\\t%0.4e'%(chi2))\n",
    "    \n",
    "    return scale_factor,chi2\n",
    "\n",
    "# Bin the instrument bits. After binning the spectrum, if there are data in a single bin coming from multiple sources\n",
    "#     get_inst_bins() will add the instrument bits to indicate the separate sources\n",
    "def get_inst_bins(inst_array):\n",
    "    # INPUT: 1D instrument bit array from the spectrum being binned\n",
    "    # OUTPUT: scalar value representing the sum of the instrument bits in the bin\n",
    "    bin_val = np.sum(np.unique(inst_array))\n",
    "    return bin_val"
   ]
  },
  {
   "cell_type": "markdown",
   "id": "d1d28544",
   "metadata": {},
   "source": [
    "# Star & Proxy Parameters"
   ]
  },
  {
   "cell_type": "code",
   "execution_count": 5,
   "id": "d3e0f7b5",
   "metadata": {},
   "outputs": [],
   "source": [
    "STAR = 'L-98-59'.upper()\n",
    "PROXY_NAME = 'GJ 832'\n",
    "STELLAR_TYPE='M'\n",
    "STELLAR_RADIUS_SOL = 0.303\n",
    "STELLAR_DIST_PC = 10\n",
    "pc2au = 206265"
   ]
  },
  {
   "cell_type": "markdown",
   "id": "67c95436",
   "metadata": {},
   "source": [
    "# Read FITS files from star directory"
   ]
  },
  {
   "cell_type": "code",
   "execution_count": 6,
   "id": "1dd12537",
   "metadata": {},
   "outputs": [
    {
     "name": "stdout",
     "output_type": "stream",
     "text": [
      "Searching for G140L\n",
      "Found directory: ./L-98-59\\G140L\n",
      "Retrieved G140L\n",
      "Searching for G140M\n",
      "Found directory: ./L-98-59\\G140M\n",
      "Retrieved G140M\n",
      "Searching for G230L\n",
      "Found directory: ./L-98-59\\G230L\n",
      "Retrieved G230L\n",
      "Searching for G430L\n",
      "Found directory: ./L-98-59\\G430L\n",
      "Retrieved G430L\n",
      "Found directory: ./Proxy stars\\GJ 832\n",
      "Retrieved proxy\n",
      "\n",
      "Gratings list:\n",
      "{'G140L': True, 'G140M': True, 'G230L': True, 'G430L': True}\n"
     ]
    }
   ],
   "source": [
    "grating_exists = {'G140L':False,'G140M':False,'G230L':False,'G430L':False}\n",
    "gratings = {}\n",
    "\n",
    "for grating_name in ['G140L','G140M','G230L','G430L']:\n",
    "    grating_exists[grating_name] = look_for_data(STAR,grating_name,gratings)\n",
    "    \n",
    "# Retrieve proxy star spectrum\n",
    "try:\n",
    "    if(PROXY_NAME=='Sun'):\n",
    "        solar_dat = readsav('./Proxy stars/Solar/solar-data.idlsav')\n",
    "        solar_wave = solar_dat['wave'][:,0]*10\n",
    "        solar_flux = solar_dat['flux'][:,0]*100\n",
    "        inst = INST_BITS['proxy']*np.ones(len(solar_wave))\n",
    "        \n",
    "        proxy = np.array([solar_wave,solar_flux,np.zeros(len(solar_wave)),inst])\n",
    "        print('Retrieved Solar proxy')\n",
    "    else:\n",
    "        for root,dirs,files in os.walk('./Proxy stars'):\n",
    "            if(root == './Proxy stars\\\\%s'%(PROXY_NAME)):\n",
    "                print('Found directory: %s'%(root))\n",
    "                \n",
    "                with fits.open('./Proxy stars/%s/%s'%(PROXY_NAME,files[0])) as hdul:\n",
    "                    wave = hdul[1].data['WAVELENGTH']\n",
    "                    flux = hdul[1].data['FLUX']\n",
    "                    err = hdul[1].data['ERROR']\n",
    "                    inst = INST_BITS['proxy']*np.ones(len(wave))\n",
    "                    \n",
    "                    proxy = np.array([wave,flux,err,inst])\n",
    "                print('Retrieved proxy')\n",
    "except:\n",
    "    print('Could not retrieve proxy')\n",
    "    \n",
    "print('\\nGratings list:')\n",
    "print(grating_exists)"
   ]
  },
  {
   "cell_type": "markdown",
   "id": "e51a9e5d",
   "metadata": {},
   "source": [
    "#### Special cases: ie: COS, uncommmon STIS gratings, etc, do manually"
   ]
  },
  {
   "cell_type": "code",
   "execution_count": null,
   "id": "2db01281",
   "metadata": {},
   "outputs": [],
   "source": []
  },
  {
   "cell_type": "markdown",
   "id": "095e8324",
   "metadata": {},
   "source": [
    "# Examine data and select good regions"
   ]
  },
  {
   "cell_type": "code",
   "execution_count": 8,
   "id": "c618d73a",
   "metadata": {},
   "outputs": [
    {
     "name": "stdout",
     "output_type": "stream",
     "text": [
      "Working with G140L\n",
      "Keeping wavelengths from:  1162.50-1699.00\n",
      "Working with G140M\n",
      "Keeping wavelengths from:  1197.60-1247.10\n",
      "Working with G230L\n",
      "Keeping wavelengths from:  2588.50-3140.50\n",
      "Working with G430L\n",
      "Keeping wavelengths from:  3678.00-5694.50\n"
     ]
    }
   ],
   "source": [
    "for grating_name in gratings:\n",
    "    print('Working with',grating_name)\n",
    "    grating = gratings[grating_name]\n",
    "    \n",
    "    # Get good error region for plottign SNR\n",
    "    good_err_reg = (grating[2] != 0)\n",
    "    \n",
    "    fig,ax = plt.subplots(2,1,figsize=(10,8),tight_layout=True,sharex=True,num=grating_name)\n",
    "    fig.suptitle(grating_name)\n",
    "    ax[0].plot(grating[0],grating[1])\n",
    "    ax[1].plot(grating[0][good_err_reg],grating[1][good_err_reg]/grating[2][good_err_reg])\n",
    "    ax[1].hlines(y=3,xmin=min(grating[0]),xmax=max(grating[0]),color='k',linestyle='--')\n",
    "    ax[1].set_ylim([-3,20])\n",
    "    \n",
    "    ax[1].set_xlabel('Wavelength [A]')\n",
    "    ax[0].set_ylabel('Flux [erg / s / cm^2 / A]')\n",
    "    ax[1].set_ylabel('S/N')\n",
    "    \n",
    "    clicks = np.array(fig.ginput(n=-1,timeout=0))[-2::][:,0]\n",
    "    \n",
    "    selected_region = (grating[0] > clicks[0]) & (grating[0] < clicks[1])\n",
    "    print('Keeping wavelengths from:  %0.2f-%0.2f'%(grating[0][selected_region][0],grating[0][selected_region][-1]))\n",
    "    \n",
    "    gratings[grating_name] = grating[:,selected_region]"
   ]
  },
  {
   "cell_type": "markdown",
   "id": "5b73f151",
   "metadata": {},
   "source": [
    "## Retrieve Ly$\\alpha$ profile & BT-Settl"
   ]
  },
  {
   "cell_type": "code",
   "execution_count": 9,
   "id": "af064dfb",
   "metadata": {},
   "outputs": [
    {
     "name": "stdout",
     "output_type": "stream",
     "text": [
      "Retrieved MCMC reconstruction\n",
      "Retrieved BT-Settl\n"
     ]
    }
   ],
   "source": [
    "# Lya\n",
    "\n",
    "try:\n",
    "    lya_data = pd.read_csv('./%s/lya_reconstruction/%s_G140M_MCMC_results.csv'%(STAR,STAR))\n",
    "    lya = np.array([lya_data['wave_lya'],lya_data['lya_intrinsic_median']])\n",
    "    print('Retrieved MCMC reconstruction')\n",
    "except:\n",
    "    try:\n",
    "        lya_data = pd.read_csv('./%s/lya_reconstruction/%s_lya_intrinsic_profile.csv'%(STAR,STAR))\n",
    "        lya = np.array([lya_data['wave'],lya_data['flux']])\n",
    "        print('Retrieved Mg II reconstruction')\n",
    "    except:\n",
    "        print('No Lyman-alpha profile found')\n",
    "        \n",
    "# BT-Settl\n",
    "try:\n",
    "    settl_dat = Table.read('./%s/interp_spectra/%s_phoenix_interpolated.ecsv'%(STAR,STAR))\n",
    "    settl = np.array([settl_dat['WAVELENGTH'],\n",
    "                      settl_dat['FLUX']*settl_dat.meta['NORMFAC'],\n",
    "                      np.zeros(len(settl_dat['FLUX'])),\n",
    "                      np.ones(len(settl_dat['WAVELENGTH']))*INST_BITS['BT-Settl']])\n",
    "    print('Retrieved BT-Settl')\n",
    "except:\n",
    "    print('No SETTL data found')"
   ]
  },
  {
   "cell_type": "markdown",
   "id": "c4a60b8d",
   "metadata": {},
   "source": [
    "# Convolve & Scale BT-Settl"
   ]
  },
  {
   "cell_type": "markdown",
   "id": "5c586101",
   "metadata": {},
   "source": [
    "#### Convolve BT-Settl to G430L Resolution"
   ]
  },
  {
   "cell_type": "code",
   "execution_count": 10,
   "id": "85aebc44",
   "metadata": {},
   "outputs": [],
   "source": [
    "# Convolve BT-Settl to G430L resolution (2.73A/pix [STIS handbook])\n",
    "settl_conv_flux = spf.convolve_gaussian(settl[0],settl[1],2.73)\n",
    "settl_conv = np.array([settl_conv_flux[0],settl_conv_flux[1],np.zeros(len(settl_conv_flux[0]))])"
   ]
  },
  {
   "cell_type": "markdown",
   "id": "ca54c3d3",
   "metadata": {},
   "source": [
    "#### Scale convolved BT-Settl to G430L data"
   ]
  },
  {
   "cell_type": "code",
   "execution_count": 231,
   "id": "a0e2ebb4",
   "metadata": {},
   "outputs": [
    {
     "name": "stdout",
     "output_type": "stream",
     "text": [
      "Fitting region:\t5004.3-5692.5\n",
      "--- RESULTS ---\n",
      "Best scale factor:\t9.1889e-01\n",
      "Minimum chi square:\t7.1384e+02\n"
     ]
    }
   ],
   "source": [
    "# Select the region of the settl spectrum to scale and run the minimization routine. Recommend >5000A\n",
    "settl_to_fit = settl_conv[0] > 5000\n",
    "\n",
    "settl_alpha,settl_chi2 = scale_spectrum(ref=gratings['G430L'],spectrum=settl_conv[:,settl_to_fit],\n",
    "                                                init_factor=1,coarse_range=2,fine_range=0.5,end='high')\n",
    "\n",
    "# Remember to scale the error, too!\n",
    "scaled_settl = np.array([settl_conv[0],\n",
    "                         settl_conv[1]*settl_alpha,\n",
    "                         settl_conv[2]*settl_alpha,\n",
    "                         np.ones(len(settl_conv[0]))*INST_BITS['BT-Settl']])\n",
    "\n",
    "fig,ax = plt.subplots(1,1,figsize=(10,6),tight_layout=True);\n",
    "[x.set_linewidth(1.5) for x in ax.spines.values()];\n",
    "ax.tick_params(which='both',direction='in',top=True,right=True,length=7,width=1.5,labelsize=12);\n",
    "ax.tick_params(which='minor',length=4,width=1.0);\n",
    "ax.minorticks_on();\n",
    "ax.plot(gratings['G430L'][0],gratings['G430L'][1],label='G430L');\n",
    "ax.plot(settl_conv[0],settl_conv[1]*settl_alpha,label=r'Scaled SETTL: $\\alpha$=%0.4f'%(settl_alpha));\n",
    "ax.plot(settl_conv[0],settl_conv[1],label='Unscaled SETTL');\n",
    "ax.legend(fontsize=12);\n",
    "\n",
    "ax.set_xlim([min(gratings['G430L'][0]),max(gratings['G430L'][0])]);\n",
    "ax.set_xlabel(r'Wavelength [$\\AA$]',fontsize=14);\n",
    "ax.set_ylabel(r'Flux density [erg s$^{-1}$ cm${-2}$ $\\AA^{-1}$]',fontsize=14);"
   ]
  },
  {
   "cell_type": "markdown",
   "id": "8d8cb1b7",
   "metadata": {},
   "source": [
    "#### Scale proxy spectrum to G230L"
   ]
  },
  {
   "cell_type": "code",
   "execution_count": 12,
   "id": "0cd66531",
   "metadata": {},
   "outputs": [
    {
     "name": "stdout",
     "output_type": "stream",
     "text": [
      "Fitting region:\t2589.5-3140.3\n",
      "--- RESULTS ---\n",
      "Best scale factor:\t3.7952e-02\n",
      "Minimum chi square:\t1.9975e+00\n"
     ]
    }
   ],
   "source": [
    "# Select the region of the proxy spectrum to scale and run the minimization routine, assuming we have a G230L spectrum\n",
    "# IGNORES MGII LINE\n",
    "if(grating_exists['G230L']):\n",
    "    proxy_to_fit = (proxy[0] > gratings['G230L'][0][0]) & (proxy[0] < gratings['G230L'][0][-1])\n",
    "    mg2_reg = [2770,2820]\n",
    "    \n",
    "    proxy_mg = (proxy[0] > mg2_reg[0]) & (proxy[0] < mg2_reg[1])\n",
    "    stis_mg = (gratings['G230L'][0] > mg2_reg[0]) & (gratings['G230L'][0] < mg2_reg[1])\n",
    "    \n",
    "\n",
    "    if(PROXY_NAME=='Sun'):\n",
    "        \n",
    "        # If the proxy is the Sun, scale it by 1e-14 first (approximate order of magnitude of most of our fluxes)\n",
    "        #     to get the minimization to converge\n",
    "        init_proxy = proxy[:,proxy_to_fit^proxy_mg]\n",
    "        init_proxy[1] = init_proxy[1]*1e-14\n",
    "\n",
    "        proxy_alpha,proxy_chi2 = scale_spectrum(ref=gratings['G230L'][:,~stis_mg],spectrum=init_proxy,\n",
    "                                                        init_factor=1,coarse_range=3,fine_range=0.5,end='low')\n",
    "\n",
    "        proxy_alpha = proxy_alpha*1e-14\n",
    "        \n",
    "        scaled_proxy = np.array([proxy[0],\n",
    "                                 proxy[1]*proxy_alpha,\n",
    "                                 proxy[2]*proxy_alpha,\n",
    "                                 np.ones(len(proxy[0]))*INST_BITS['proxy']])\n",
    "        \n",
    "        fig,ax = plt.subplots(1,1,figsize=(10,6),tight_layout=True)\n",
    "        ax.plot(gratings['G230L'][0],gratings['G230L'][1],label='G230L')\n",
    "        ax.plot(scaled_proxy[0],scaled_proxy[1],label=r'Scaled proxy: $\\alpha$=%0.4e'%(proxy_alpha))\n",
    "        ax.legend()\n",
    "\n",
    "        ax.set_xlim([min(proxy[0][proxy_to_fit]),max(gratings['G230L'][0])])\n",
    "\n",
    "        ax.set_xlabel(r'Wavelength [$\\AA$]')\n",
    "        ax.set_ylabel(r'Flux density [erg s$^{-1}$ cm${-2}$ $\\AA^{-1}$]')\n",
    "\n",
    "        print('EXCEPTION: SOLAR PROXY')\n",
    "        print('Acutal scale factor:\\t%0.4e'%(proxy_alpha))\n",
    "        \n",
    "    else:\n",
    "        proxy_alpha,proxy_chi2 = scale_spectrum(ref=gratings['G230L'][:,~stis_mg],\n",
    "                                                             spectrum=proxy[:,proxy_to_fit^proxy_mg],\n",
    "                                                        init_factor=0.01,coarse_range=3,fine_range=0.5,end='low')\n",
    "\n",
    "        scaled_proxy = np.array([proxy[0],\n",
    "                                 proxy[1]*proxy_alpha,\n",
    "                                 proxy[2]*proxy_alpha,\n",
    "                                 np.ones(len(proxy[0]))*INST_BITS['proxy']])\n",
    "        \n",
    "        \n",
    "        fig,ax = plt.subplots(1,1,figsize=(10,6),tight_layout=True);\n",
    "        ax.plot(gratings['G230L'][0],gratings['G230L'][1],label='G230L');\n",
    "        ax.plot(scaled_proxy[0],scaled_proxy[1],label=r'Scaled proxy: $\\alpha$=%0.4e'%(proxy_alpha));\n",
    "        ax.legend();\n",
    "\n",
    "        ax.set_xlim([min(proxy[0][proxy_to_fit]),max(gratings['G230L'][0])]);\n",
    "\n",
    "        ax.set_xlabel(r'Wavelength [$\\AA$]');\n",
    "        ax.set_ylabel(r'Flux density [erg s$^{-1}$ cm${-2}$ $\\AA^{-1}$]');"
   ]
  },
  {
   "cell_type": "markdown",
   "id": "310621fe",
   "metadata": {},
   "source": [
    "# Get EUV bins"
   ]
  },
  {
   "cell_type": "code",
   "execution_count": 94,
   "id": "7107ce0b",
   "metadata": {},
   "outputs": [
    {
     "name": "stdout",
     "output_type": "stream",
     "text": [
      "Stellar type: M\n",
      "Distance: 10pc\n",
      "Integrated lya flux:\t\t5.4100e-14 erg/s/cm^2\n",
      "Integrated lya flux at 1AU:\t2.3017e-01 erg/s/cm^2\n",
      "Bin 100-200:\t1.7466e-16 erg/s/cm^2/A\n",
      "Bin 200-300:\t1.5318e-16 erg/s/cm^2/A\n",
      "Bin 300-400:\t1.3527e-16 erg/s/cm^2/A\n",
      "Bin 400-500:\t1.8819e-18 erg/s/cm^2/A\n",
      "Bin 500-600:\t1.8633e-18 erg/s/cm^2/A\n",
      "Bin 600-700:\t4.5718e-18 erg/s/cm^2/A\n",
      "Bin 700-800:\t3.2266e-18 erg/s/cm^2/A\n",
      "Bin 800-912:\t2.4299e-18 erg/s/cm^2/A\n",
      "Bin 912-1170:\t1.8885e-17 erg/s/cm^2/A\n"
     ]
    }
   ],
   "source": [
    "#### EUV bin relations from Linsky et al (2014). Use integrated lyman-a flux to calculate 100-1170A flux density\n",
    "\n",
    "print('Stellar type:',STELLAR_TYPE)\n",
    "print('Distance: %dpc'%(STELLAR_DIST_PC))\n",
    "\n",
    "### Get Lya flux & scale to 1AU ###\n",
    "lya_scale_fac = (STELLAR_DIST_PC*pc2au)**2\n",
    "int_lya_flux = np.trapz(x=lya[0],y=lya[1])\n",
    "# Proxy lya flux\n",
    "#int_lya_flux = np.trapz(x=proxy[0][(proxy[0] > 1214) & (proxy[0] < 1217.4)],y=proxy[1][(proxy[0] > 1214) & (proxy[0] < 1217.4)]*proxy_alpha)\n",
    "print('Integrated lya flux:\\t\\t%0.4e erg/s/cm^2'%(int_lya_flux))\n",
    "\n",
    "int_lya_flux = int_lya_flux*lya_scale_fac\n",
    "print('Integrated lya flux at 1AU:\\t%0.4e erg/s/cm^2'%(int_lya_flux))\n",
    "\n",
    "# Use Linsky 2014 relations for EUV bins. Relations hold for F-M stars\n",
    "SUPPORTED_STELLAR_TYPES = ['M','K','G','F']\n",
    "\n",
    "# Bins 100-400 are different for M stars and F-K stars\n",
    "if(STELLAR_TYPE.upper() in SUPPORTED_STELLAR_TYPES):\n",
    "    if(STELLAR_TYPE.upper()=='M'):\n",
    "        bin_100_200 = 10**(-0.491)*int_lya_flux/100/lya_scale_fac\n",
    "        bin_200_300 = 10**(-0.548)*int_lya_flux/100/lya_scale_fac\n",
    "        bin_300_400 = 10**(-0.602)*int_lya_flux/100/lya_scale_fac\n",
    "\n",
    "    elif(STELLAR_TYPE.upper()=='K' or STELLAR_TYPE.upper()=='F' or STELLAR_TYPE.upper()=='G'):\n",
    "        bin_100_200 = 10**(-1.357)*int_lya_flux**(0.344+1)/100/lya_scale_fac\n",
    "        bin_200_300 = 10**(-1.300)*int_lya_flux**(0.309+1)/100/lya_scale_fac\n",
    "        bin_300_400 = 10**(-0.882)*int_lya_flux/100/lya_scale_fac\n",
    "    else:\n",
    "        print('How did you get here?')\n",
    "\n",
    "    # Bins 400-1170 are the same for all stars.\n",
    "    bin_400_500 = 10**(-2.294)*int_lya_flux**(0.258+1)/100/lya_scale_fac\n",
    "    bin_500_600 = 10**(-2.098)*int_lya_flux**(0.572+1)/100/lya_scale_fac\n",
    "    bin_600_700 = 10**(-1.920)*int_lya_flux**(0.240+1)/100/lya_scale_fac\n",
    "    bin_700_800 = 10**(-1.894)*int_lya_flux**(0.518+1)/100/lya_scale_fac\n",
    "    bin_800_912 = 10**(-1.811)*int_lya_flux**(0.764+1)/112/lya_scale_fac\n",
    "    bin_912_1170 = 10**(-1.004)*int_lya_flux**(0.065+1)/258/lya_scale_fac\n",
    "\n",
    "    bin_edges = np.array([100,200,300,400,500,600,700,800,912,1170])\n",
    "    bin_fluxes = np.array([bin_100_200,bin_200_300,bin_300_400,bin_400_500,\n",
    "                          bin_500_600,bin_600_700,bin_700_800,bin_800_912,bin_912_1170])\n",
    "\n",
    "    # Define a new wavelength array for the EUV bins to replace the proxy data\n",
    "    euv_reg = (proxy[0] > 100) & (proxy[0] < 1170)\n",
    "    EUV_wave_array = proxy[0][euv_reg]\n",
    "    EUV_flux_array = np.ones(len(EUV_wave_array))\n",
    "    EUV_inst_array = np.ones(len(EUV_wave_array))*INST_BITS['EUV']\n",
    "\n",
    "    for i in range(len(bin_fluxes)):\n",
    "        print('Bin %d-%d:\\t%0.4e erg/s/cm^2/A'%(bin_edges[i],bin_edges[i+1],bin_fluxes[i]))\n",
    "        current_bin = (EUV_wave_array >= bin_edges[i]) & (EUV_wave_array < bin_edges[i+1])\n",
    "        EUV_flux_array[current_bin] = bin_fluxes[i]\n",
    "\n",
    "    fig = plt.figure(figsize=(12,8),tight_layout=True);\n",
    "    ax = fig.add_subplot();\n",
    "    [x.set_linewidth(1.5) for x in ax.spines.values()];\n",
    "    ax.tick_params(which='both',direction='in',top=True,right=True,length=7,width=1.5,labelsize=12);\n",
    "    ax.tick_params(which='minor',length=4,width=1.5);\n",
    "    ax.minorticks_on()\n",
    "    plt.step(EUV_wave_array,EUV_flux_array);\n",
    "    plt.title('EUV flux bins',fontsize=15);\n",
    "    plt.yscale('log');\n",
    "    plt.grid(which='both',axis='both',alpha=0.4);\n",
    "    plt.xlabel('Wavelength [A]',fontsize=14);\n",
    "    plt.ylabel('Flux density [erg / s / cm^2 / A]',fontsize=14);\n",
    "    \n",
    "else:\n",
    "    print('Unsupported stellar type. Skipping EUV bins')\n",
    "    \n",
    "    \n",
    "EUV_data = np.array([EUV_wave_array,\n",
    "                     EUV_flux_array,\n",
    "                     np.zeros(len(EUV_wave_array)),\n",
    "                     EUV_inst_array])"
   ]
  },
  {
   "cell_type": "markdown",
   "id": "876a7ced",
   "metadata": {},
   "source": [
    "# Get X-ray spectrum"
   ]
  },
  {
   "cell_type": "code",
   "execution_count": 223,
   "id": "f19b4e89",
   "metadata": {
    "scrolled": true
   },
   "outputs": [
    {
     "name": "stdout",
     "output_type": "stream",
     "text": [
      "Energy:\t0.36keV\n",
      "A_eff:\t448.7cm^2\n",
      "Energy:\t0.41keV\n",
      "A_eff:\t538.3cm^2\n",
      "Energy:\t0.51keV\n",
      "A_eff:\t757.8cm^2\n",
      "Energy:\t0.62keV\n",
      "A_eff:\t797.1cm^2\n",
      "Energy:\t0.73keV\n",
      "A_eff:\t915.1cm^2\n",
      "Energy:\t0.82keV\n",
      "A_eff:\t979.0cm^2\n",
      "Energy:\t0.94keV\n",
      "A_eff:\t1037.5cm^2\n",
      "Energy:\t1.04keV\n",
      "A_eff:\t1073.4cm^2\n",
      "Energy:\t1.72keV\n",
      "A_eff:\t1098.1cm^2\n",
      "Energy:\t3.73keV\n",
      "A_eff:\t765.1cm^2\n",
      "0 0.361546516\n",
      "1 0.413447976\n",
      "2 0.511106014\n",
      "3 0.620116472\n",
      "4 0.727509499\n",
      "5 0.818952501\n",
      "6 0.938667536\n",
      "7 1.03608\n",
      "8 1.71543002\n",
      "9 3.74010992\n",
      "10 BREAK\n",
      "Data ends at: 10\n",
      "     energy  bin_width        counts    counts_err    model_flux\n",
      "0  0.361547   0.010441  1.431852e-04  7.793862e-05  1.831831e-05\n",
      "1  0.413448   0.041460  2.941793e-05  1.770078e-05  1.692916e-05\n",
      "2  0.511106   0.056198  1.684862e-05  1.132283e-05  1.653663e-05\n",
      "3  0.620116   0.052812  1.689382e-05  1.016502e-05  2.343895e-05\n",
      "4  0.727509   0.054581  2.115721e-05  9.090589e-06  2.108925e-05\n",
      "5  0.818953   0.036862  2.318555e-05  1.126630e-05  1.456621e-05\n",
      "6  0.938668   0.082853  8.176828e-06  4.674087e-06  8.095500e-06\n",
      "7  1.036080   0.014560  5.492046e-05  2.506163e-05  4.926535e-06\n",
      "8  1.715430   0.664790 -1.522114e-07  5.703913e-07  5.097621e-07\n",
      "9  3.740110   1.359890  8.809285e-08  3.971677e-07  2.845440e-09\n",
      "         energy  bin_width  counts  counts_err    model_flux\n",
      "11     0.050500     0.0005     NaN         NaN  6.423439e-04\n",
      "12     0.051500     0.0005     NaN         NaN  2.939392e-04\n",
      "13     0.052500     0.0005     NaN         NaN  4.194950e-04\n",
      "14     0.053500     0.0005     NaN         NaN  3.153025e-04\n",
      "15     0.054500     0.0005     NaN         NaN  2.231646e-04\n",
      "...         ...        ...     ...         ...           ...\n",
      "2073  15.937500     0.0075     NaN         NaN  8.673682e-25\n",
      "2074  15.952499     0.0075     NaN         NaN  8.365118e-25\n",
      "2075  15.967501     0.0075     NaN         NaN  8.059243e-25\n",
      "2076  15.982500     0.0075     NaN         NaN  7.756714e-25\n",
      "2077  15.997499     0.0075     NaN         NaN  7.456447e-25\n",
      "\n",
      "[2067 rows x 5 columns]\n"
     ]
    }
   ],
   "source": [
    "########### CONSTANTS ##############\n",
    "c = 3e18 # A/s\n",
    "h = 4.1357e-18 # keV s\n",
    "erg = 1/6.2415e8 # 1 erg = 6.2e8 keV\n",
    "####################################\n",
    "\n",
    "# Get the effective area. Only use this if you were dumb and forgot to use setplot area in XSPEC\n",
    "get_aeff = False\n",
    "\n",
    "if(get_aeff):\n",
    "    d = 3.09e18*10 # distance in cm\n",
    "\n",
    "    with fits.open('./L-98-59/XMM/flare_analysis/F301/src_quiesfilt_0.3-10kev_arf.fits') as hdul:\n",
    "        resp_energy = hdul[1].data['ENERG_LO']\n",
    "        a_eff = hdul[1].data['SPECRESP']\n",
    "\n",
    "\n",
    "    closest_energy = np.zeros(len(x_ray_obs['energy']),dtype=int)\n",
    "\n",
    "\n",
    "    #### Get the closest energy value to the observed bins & divide by the effective area at that energy\n",
    "    for i in range(len(x_ray_obs['energy'])):\n",
    "        closest_energy[i] = int(np.argmin(np.abs(resp_energy-x_ray_obs['energy'][i])))\n",
    "        print('Energy:\\t%0.2fkeV\\nA_eff:\\t%0.1fcm^2'%(resp_energy[closest_energy[i]],a_eff[closest_energy[i]]))\n",
    "\n",
    "    fig,ax = plt.subplots(1,1,tight_layout=True,figsize=(9,7));\n",
    "    [x.set_linewidth(1.2) for x in ax.spines.values()]\n",
    "    ax.tick_params(which='both',direction='in',top=True,right=True,length=7,width=1.5,labelsize=12);\n",
    "    ax.tick_params(which='minor',length=4,width=1.0);\n",
    "    ax.minorticks_on();\n",
    "    ax.plot(APEC_model['energy'],APEC_model['model_flux'],label='APEC plasma model',zorder=-1);\n",
    "    ax.errorbar(x=x_ray_obs['energy'],y=x_ray_obs['counts'],\n",
    "                xerr=x_ray_obs['bin_width'],yerr=x_ray_obs['counts_err'],\n",
    "                linestyle='',label='X-ray observation',zorder=0);\n",
    "    ax.set_ylabel(r'Counts / s / cm$^2$ / keV',fontsize=14);\n",
    "    ax.set_xlabel('Energy [keV]',fontsize=14);\n",
    "    ax.legend(fontsize=12)\n",
    "\n",
    "#### TODO\n",
    "#### COME UP WITH A WAY TO AUTOMATE RETRIEVAL OF X-RAY DATA & XSPEC MODELS\n",
    "\n",
    "####### x-ray model CSV contains ########\n",
    "# Energy [keV]  |  energy bin width [keV]  |  total counts  |  counts error  |  photon flux [photon/s/cm^2/keV]\n",
    "#########################################\n",
    "\n",
    "\n",
    "x_ray_data = pd.read_csv('./L-98-59/XMM/flare_analysis/F301/x_ray_model.csv',delimiter=',')\n",
    "\n",
    "end_of_data = 0\n",
    "start_of_APEC = 0\n",
    "for row,index in zip(x_ray_data['energy'],range(len(x_ray_data['energy']))):\n",
    "    print(index,row)\n",
    "    if(row.lower()=='break'):\n",
    "        # Subtract 1 from index because pandas range is inclusive\n",
    "        end_of_data = index-1\n",
    "        start_of_APEC = index+1\n",
    "        print('Data ends at:',index)\n",
    "        break\n",
    "        \n",
    "x_ray_obs = x_ray_data.loc[0:end_of_data].astype(float)\n",
    "print(x_ray_obs)\n",
    "APEC_model = x_ray_data.loc[start_of_APEC::].astype(float)\n",
    "print(APEC_model)\n",
    "\n",
    "\n",
    "obs_energy = np.array(x_ray_obs['energy'])[::-1]\n",
    "\n",
    "obs_wave = np.array(h*c/obs_energy)\n",
    "obs_flux = np.array(x_ray_obs['counts'][::-1]*obs_energy)*erg*obs_energy**2/(h*c)\n",
    "obs_err = np.array(x_ray_obs['counts_err'][::-1]*obs_energy*erg*obs_energy**2/(h*c))\n",
    "\n",
    "\n",
    "apec_energy = np.array(APEC_model['energy'])[::-1]\n",
    "apec_wave = h*c/apec_energy\n",
    "apec_flux = np.array(APEC_model['model_flux'][::-1])*erg*apec_energy**2/(h*c)\n",
    "\n",
    "fig,ax = plt.subplots(1,1,figsize=(10,7),tight_layout=True)\n",
    "ax.errorbar(x=obs_wave,\n",
    "            y=obs_flux,\n",
    "            xerr=np.sqrt((-h*c/obs_energy**2)**2*x_ray_obs['bin_width'][::-1]**2),\n",
    "            yerr=obs_err,linestyle='',label=STAR,zorder=2)\n",
    "ax.plot(apec_wave,apec_flux,label='APEC',zorder=1)\n",
    "ax.plot(wave,flux*proxy_alpha,label='Scaled proxy',zorder=0)\n",
    "ax.set_xlabel('Wavelength [Å]')\n",
    "ax.set_ylabel('erg / s / cm^2 / A')\n",
    "\n",
    "ax.set_yscale('log')\n",
    "ax.minorticks_on()\n",
    "ax.legend()\n",
    "\n",
    "fig.suptitle(STAR)\n",
    "\n",
    "apec_region1 = (apec_wave > 5.) & (apec_wave < obs_wave[1])\n",
    "apec_region2 = (apec_wave > obs_wave[-1]) & (apec_wave < 100)\n",
    "apec_region = apec_region1+apec_region2\n",
    "\n",
    "apec_data = np.array([apec_wave[apec_region],\n",
    "                      apec_flux[apec_region],\n",
    "                      np.zeros(np.sum(apec_region)),\n",
    "                      np.ones(np.sum(apec_region))*INST_BITS['APEC']])\n",
    "\n",
    "\n",
    "obs_data = np.array([obs_wave[1::],\n",
    "                     obs_flux[1::],\n",
    "                     obs_err[1::],\n",
    "                     np.ones(len(obs_wave[1::]))*INST_BITS['X-RAY']])\n",
    "\n",
    "xray_data = np.concatenate((apec_data,obs_data),axis=1)"
   ]
  },
  {
   "cell_type": "markdown",
   "id": "fc0614e5",
   "metadata": {},
   "source": [
    "# Put the pieces together"
   ]
  },
  {
   "cell_type": "code",
   "execution_count": 234,
   "id": "f632422b",
   "metadata": {},
   "outputs": [
    {
     "data": {
      "text/plain": [
       "[<matplotlib.lines.Line2D at 0x258d8ffa9d0>]"
      ]
     },
     "execution_count": 234,
     "metadata": {},
     "output_type": "execute_result"
    }
   ],
   "source": [
    "#### Obs UV data\n",
    "# gratings['G230L'],  gratings['G430L']\n",
    "STIS_data = np.concatenate((gratings['G230L'],gratings['G430L']),axis=1)\n",
    "plt.plot(STIS_data[0],STIS_data[1],label='STIS')\n",
    "\n",
    "#### Proxy data\n",
    "# scaled_proxy\n",
    "proxy_region1 = (scaled_proxy[0] > 1170.) & (scaled_proxy[0] < gratings['G230L'][0][0])\n",
    "proxy_region2 = (scaled_proxy[0] > gratings['G230L'][0][-1]) & (scaled_proxy[0] < gratings['G430L'][0][0])\n",
    "proxy_region = proxy_region1+proxy_region2\n",
    "\n",
    "proxy_data = scaled_proxy[:,proxy_region]\n",
    "\n",
    "plt.plot(proxy_data[0],proxy_data[1])\n",
    "\n",
    "#### BT-Settl\n",
    "# scaled_settl\n",
    "settl_region = (scaled_settl[0] > gratings['G430L'][0][-1]) & (scaled_settl[0] < 55000)\n",
    "\n",
    "settl_data = scaled_settl[:,settl_region]\n",
    "\n",
    "plt.plot(settl_data[0],settl_data[1])\n",
    "\n",
    "#### EUV data\n",
    "# EUV_data\n",
    "plt.plot(EUV_data[0],EUV_data[1])\n",
    "\n",
    "#### X-ray data\n",
    "# xray_data\n",
    "plt.errorbar(x=xray_data[0],y=xray_data[1],yerr=xray_data[2])\n",
    "\n",
    "# Combine each data set into a single array\n",
    "combined_spectrum_nolines = np.concatenate((xray_data,\n",
    "                                           EUV_data,\n",
    "                                           proxy_data,\n",
    "                                           STIS_data,\n",
    "                                           settl_data),axis=1)\n",
    "\n",
    "# Get the sorted indices of the wavelength array using argsort and use that to sort the entire combined array\n",
    "combined_spectrum_nolines = combined_spectrum_nolines[:,np.argsort(combined_spectrum_nolines[0])]"
   ]
  },
  {
   "cell_type": "code",
   "execution_count": 235,
   "id": "30d5d6db",
   "metadata": {},
   "outputs": [
    {
     "data": {
      "text/plain": [
       "[<matplotlib.lines.Line2D at 0x258d931eaf0>]"
      ]
     },
     "execution_count": 235,
     "metadata": {},
     "output_type": "execute_result"
    }
   ],
   "source": [
    "fig,ax = plt.subplots(3,1,figsize=(9,9),tight_layout=True,sharex=True)\n",
    "for i in ax:\n",
    "    [x.set_linewidth(1.5) for x in i.spines.values()]\n",
    "    i.tick_params(which='both',top=True,right=True,length=7,width=1.5,labelsize=14)\n",
    "    i.tick_params(which='both',length=4,width=1.)\n",
    "\n",
    "pos_flux = combined_spectrum_nolines[2] > 0\n",
    "\n",
    "ax[0].plot(combined_spectrum_nolines[0],combined_spectrum_nolines[1])\n",
    "ax[1].plot(combined_spectrum_nolines[0][pos_flux],combined_spectrum_nolines[1][pos_flux]/combined_spectrum_nolines[2][pos_flux])\n",
    "ax[2].plot(combined_spectrum_nolines[0],combined_spectrum_nolines[3])"
   ]
  },
  {
   "cell_type": "markdown",
   "id": "2e3b9417",
   "metadata": {},
   "source": [
    "# Test Instrument binning"
   ]
  },
  {
   "cell_type": "code",
   "execution_count": 239,
   "id": "a34534bf",
   "metadata": {},
   "outputs": [
    {
     "data": {
      "text/plain": [
       "[<matplotlib.lines.Line2D at 0x258d956bfa0>]"
      ]
     },
     "execution_count": 239,
     "metadata": {},
     "output_type": "execute_result"
    }
   ],
   "source": [
    "test_wave = gratings['G140L'][0]\n",
    "test_flux = gratings['G140L'][1]\n",
    "test_inst = gratings['G140L'][3]\n",
    "\n",
    "test_inst[100:102] = INST_BITS['proxy']\n",
    "\n",
    "ax1 = plt.subplot(211)\n",
    "plt.plot(test_wave,test_flux)\n",
    "plt.subplot(212,sharex=ax1)\n",
    "plt.plot(test_wave,test_inst)"
   ]
  },
  {
   "cell_type": "code",
   "execution_count": 240,
   "id": "d217814b",
   "metadata": {},
   "outputs": [],
   "source": [
    "num_bins = test_wave[-1]-test_wave[0]\n",
    "\n",
    "test_flux_binned,flux_bins,_ = binned_statistic(x=test_wave,values=test_flux,bins=num_bins,statistic='mean')\n",
    "test_inst_binned,inst_bins,_ = binned_statistic(x=test_wave,values=test_inst,bins=num_bins,statistic=get_inst_bins)"
   ]
  },
  {
   "cell_type": "code",
   "execution_count": 241,
   "id": "55ee3efb",
   "metadata": {},
   "outputs": [
    {
     "data": {
      "text/plain": [
       "[<matplotlib.lines.Line2D at 0x258d9660400>]"
      ]
     },
     "execution_count": 241,
     "metadata": {},
     "output_type": "execute_result"
    }
   ],
   "source": [
    "ax1 = plt.subplot(211)\n",
    "plt.plot(flux_bins[0:-1],test_flux_binned)\n",
    "plt.subplot(212,sharex=ax1)\n",
    "plt.plot(inst_bins[0:-1],test_inst_binned)\n",
    "plt.plot(test_wave,test_inst)"
   ]
  },
  {
   "cell_type": "markdown",
   "id": "b6d7029f",
   "metadata": {},
   "source": [
    "# GJ 832 Spectrum"
   ]
  },
  {
   "cell_type": "code",
   "execution_count": 96,
   "id": "5611e059",
   "metadata": {},
   "outputs": [
    {
     "data": {
      "text/plain": [
       "[<matplotlib.lines.Line2D at 0x20f8a618c10>]"
      ]
     },
     "execution_count": 96,
     "metadata": {},
     "output_type": "execute_result"
    }
   ],
   "source": [
    "with fits.open('./Proxy stars/GJ 832/hlsp_muscles_multi_multi_gj832_broadband_v22_var-res-sed.fits') as hdul:\n",
    "    plt.figure()\n",
    "    plt.semilogy(hdul[1].data['WAVELENGTH'],hdul[1].data['FLUX'])\n",
    "    \n",
    "    gjwave = hdul[1].data['WAVELENGTH']\n",
    "    gjflux = hdul[1].data['FLUX']\n",
    "    \n",
    "gj_832_apec = pd.read_csv('./GJ_832_apec.csv')\n",
    "#\n",
    "#plt.plot(h*c/gj_832_apec['energy'],gj_832_apec['model_flux']*erg*gj_832_apec['energy']**2/(h*c)*(9.35e-15/9.365e-10))\n",
    "#\n",
    "plt.figure()\n",
    "plt.plot(np.diff(gjwave[(gjwave > 20) & (gjwave < 100)]))"
   ]
  },
  {
   "cell_type": "code",
   "execution_count": null,
   "id": "65f7ef4a",
   "metadata": {},
   "outputs": [],
   "source": []
  }
 ],
 "metadata": {
  "kernelspec": {
   "display_name": "Python 3 (ipykernel)",
   "language": "python",
   "name": "python3"
  },
  "language_info": {
   "codemirror_mode": {
    "name": "ipython",
    "version": 3
   },
   "file_extension": ".py",
   "mimetype": "text/x-python",
   "name": "python",
   "nbconvert_exporter": "python",
   "pygments_lexer": "ipython3",
   "version": "3.9.7"
  }
 },
 "nbformat": 4,
 "nbformat_minor": 5
}
