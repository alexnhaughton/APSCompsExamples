{
 "cells": [
  {
   "cell_type": "code",
   "execution_count": 6,
   "id": "76ad00a4",
   "metadata": {},
   "outputs": [],
   "source": [
    "%matplotlib qt"
   ]
  },
  {
   "cell_type": "code",
   "execution_count": 7,
   "id": "af645fe7",
   "metadata": {},
   "outputs": [],
   "source": [
    "import matplotlib.pyplot as plt\n",
    "import numpy as np\n",
    "import matplotlib.animation as animation\n",
    "from matplotlib.animation import FFMpegFileWriter\n",
    "import pandas as pd\n",
    "from scipy.io import readsav\n",
    "pi = np.pi"
   ]
  },
  {
   "cell_type": "code",
   "execution_count": 8,
   "id": "b2800350",
   "metadata": {},
   "outputs": [],
   "source": [
    "import matplotlib.animation as animation\n",
    "from matplotlib.animation import FFMpegFileWriter\n",
    "\n",
    "\n",
    "###########################################################################\n",
    "#       Calculate absorption due to neutral H including Gaunt factor      #\n",
    "###########################################################################\n",
    "Z = 1 # atomic # of H \n",
    "c = 3e8 # m/s\n",
    "h = 4.1357e-15 # eV * s\n",
    "k = 8.6173e-5 # ev / K\n",
    "T = 5700 # K\n",
    "nu_1 = 13.6/h # eV / (eV * s) = 1/s = freq of ionizing photon\n",
    "lam = np.linspace(10,912,num=902)*1e-10 # 60-1500AA in m\n",
    "nu = c/lam\n",
    "z = np.sqrt(nu_1/(nu-nu_1)) # not to be confused with big Z\n",
    "g_f = 8*pi*3**(1/2)*(nu_1/nu)*np.exp(-4*z*np.arctan(1/z))/(1-np.exp(-2*z*pi)) # Gaunt factor\n",
    "s_fv = 7.91e-18*(nu_1/nu)**3*g_f # # absorption coefficient for H1\n",
    "\n",
    "# Initialize figure\n",
    "fig = plt.figure(tight_layout=True)\n",
    "ax = plt.axes(xlim=(10,912),ylim=(-0.1,1.1))\n",
    "plt.style.use('dark_background')\n",
    "line, = ax.plot([],[],lw=2)\n",
    "ax.set_xlabel(r'Wavelength [$\\AA$]',fontsize=15)\n",
    "ax.set_ylabel('Transmission factor',fontsize=15)\n",
    "ax.tick_params(which='both',direction='in',top=True,right=True,length=4,width=1.5,labelsize='large')\n",
    "\n",
    "def init():\n",
    "    line.set_data([],[])\n",
    "    return line,\n",
    "\n",
    "num_frames=400\n",
    "\n",
    "# Update the absorption factor for each value of logN\n",
    "def plot_abs(i):\n",
    "    logN = i\n",
    "    tau = 10**logN*s_fv\n",
    "    \n",
    "    ax.set_title('logN = %0.2f'%(logN))\n",
    "    \n",
    "    line.set_data(lam*1e10,np.exp(-tau))\n",
    "    return line,\n",
    "\n",
    "# save the animation\n",
    "anim = animation.FuncAnimation(fig,plot_abs,init_func=init,frames=np.linspace(16,20,num=num_frames),interval=5)\n",
    "anim.save('absorption.mp4',writer='ffmpeg')"
   ]
  },
  {
   "cell_type": "code",
   "execution_count": null,
   "id": "c7dba1a7",
   "metadata": {},
   "outputs": [],
   "source": []
  }
 ],
 "metadata": {
  "kernelspec": {
   "display_name": "Python 3 (ipykernel)",
   "language": "python",
   "name": "python3"
  },
  "language_info": {
   "codemirror_mode": {
    "name": "ipython",
    "version": 3
   },
   "file_extension": ".py",
   "mimetype": "text/x-python",
   "name": "python",
   "nbconvert_exporter": "python",
   "pygments_lexer": "ipython3",
   "version": "3.9.7"
  }
 },
 "nbformat": 4,
 "nbformat_minor": 5
}
